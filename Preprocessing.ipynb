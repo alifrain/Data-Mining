{
  "nbformat": 4,
  "nbformat_minor": 0,
  "metadata": {
    "colab": {
      "provenance": [],
      "authorship_tag": "ABX9TyPis224WDHm2oUBww7jv07m",
      "include_colab_link": true
    },
    "kernelspec": {
      "name": "python3",
      "display_name": "Python 3"
    },
    "language_info": {
      "name": "python"
    }
  },
  "cells": [
    {
      "cell_type": "markdown",
      "metadata": {
        "id": "view-in-github",
        "colab_type": "text"
      },
      "source": [
        "<a href=\"https://colab.research.google.com/github/alifrain/Data-Mining/blob/main/Preprocessing.ipynb\" target=\"_parent\"><img src=\"https://colab.research.google.com/assets/colab-badge.svg\" alt=\"Open In Colab\"/></a>"
      ]
    },
    {
      "cell_type": "code",
      "execution_count": 1,
      "metadata": {
        "id": "mtiUcIxPRITa"
      },
      "outputs": [],
      "source": [
        "import numpy as np\n",
        "import matplotlib.pyplot as plt\n",
        "import pandas as pd"
      ]
    },
    {
      "cell_type": "code",
      "source": [
        "dataset = pd.read_csv('Data.csv')\n",
        "x = dataset.iloc[:, :-1].values\n",
        "y = dataset.iloc[:, -1].values"
      ],
      "metadata": {
        "id": "cAZy6ZHZRfUO"
      },
      "execution_count": 7,
      "outputs": []
    },
    {
      "cell_type": "code",
      "source": [
        "print(x)"
      ],
      "metadata": {
        "colab": {
          "base_uri": "https://localhost:8080/"
        },
        "id": "YrcuoeUqSzhD",
        "outputId": "6ba811b7-a9b3-4570-ede5-fcfd2fae2fc1"
      },
      "execution_count": 8,
      "outputs": [
        {
          "output_type": "stream",
          "name": "stdout",
          "text": [
            "[['France' 50.0 36000.0]\n",
            " ['Spain' nan 41000.0]\n",
            " ['Germany' 30.0 60000.0]\n",
            " ['Spain' 38.0 61000.0]\n",
            " ['Argentina' 30.0 nan]\n",
            " ['France' 35.0 58000.0]\n",
            " ['Portugal' 21.0 52000.0]\n",
            " ['Netherlands' 48.0 79000.0]\n",
            " ['Germany' 50.0 83000.0]\n",
            " ['France' 37.0 67000.0]]\n"
          ]
        }
      ]
    },
    {
      "cell_type": "code",
      "source": [
        "print(y)"
      ],
      "metadata": {
        "colab": {
          "base_uri": "https://localhost:8080/"
        },
        "id": "ze9E6g2gS8KJ",
        "outputId": "4e928fed-6016-4047-cd5f-71c99a19bd6b"
      },
      "execution_count": 9,
      "outputs": [
        {
          "output_type": "stream",
          "name": "stdout",
          "text": [
            "['No' 'Yes' 'No' 'No' 'Yes' 'Yes' 'No' 'Yes' 'No' 'Yes']\n"
          ]
        }
      ]
    },
    {
      "cell_type": "code",
      "source": [
        "from sklearn.impute import SimpleImputer\n",
        "imputer = SimpleImputer(missing_values=np.nan, strategy='mean')\n",
        "imputer.fit(x[:, 1:3])\n",
        "x[:, 1:3] = imputer.transform(x[:, 1:3])"
      ],
      "metadata": {
        "id": "NIQFx0CmTO1f"
      },
      "execution_count": 10,
      "outputs": []
    },
    {
      "cell_type": "code",
      "source": [
        "print(x)"
      ],
      "metadata": {
        "colab": {
          "base_uri": "https://localhost:8080/"
        },
        "id": "42oqTBGqWWQO",
        "outputId": "e057c846-7dbf-46b9-c1fa-d7600a9fcd63"
      },
      "execution_count": 11,
      "outputs": [
        {
          "output_type": "stream",
          "name": "stdout",
          "text": [
            "[['France' 50.0 36000.0]\n",
            " ['Spain' 37.666666666666664 41000.0]\n",
            " ['Germany' 30.0 60000.0]\n",
            " ['Spain' 38.0 61000.0]\n",
            " ['Argentina' 30.0 59666.666666666664]\n",
            " ['France' 35.0 58000.0]\n",
            " ['Portugal' 21.0 52000.0]\n",
            " ['Netherlands' 48.0 79000.0]\n",
            " ['Germany' 50.0 83000.0]\n",
            " ['France' 37.0 67000.0]]\n"
          ]
        }
      ]
    },
    {
      "cell_type": "code",
      "source": [
        "from sklearn.compose import ColumnTransformer\n",
        "from sklearn.preprocessing import OneHotEncoder\n",
        "ct = ColumnTransformer(transformers=[('encider', OneHotEncoder(), [0])], remainder='passthrough')\n",
        "x = np.array(ct.fit_transform(x))"
      ],
      "metadata": {
        "id": "fc9ZB8c9We0R"
      },
      "execution_count": 12,
      "outputs": []
    },
    {
      "cell_type": "code",
      "source": [
        "print(x)"
      ],
      "metadata": {
        "colab": {
          "base_uri": "https://localhost:8080/"
        },
        "id": "A5PrbpnsWgqP",
        "outputId": "76c970f9-4951-42d0-8daf-7bf78b4c2049"
      },
      "execution_count": 13,
      "outputs": [
        {
          "output_type": "stream",
          "name": "stdout",
          "text": [
            "[[0.0 1.0 0.0 0.0 0.0 0.0 50.0 36000.0]\n",
            " [0.0 0.0 0.0 0.0 0.0 1.0 37.666666666666664 41000.0]\n",
            " [0.0 0.0 1.0 0.0 0.0 0.0 30.0 60000.0]\n",
            " [0.0 0.0 0.0 0.0 0.0 1.0 38.0 61000.0]\n",
            " [1.0 0.0 0.0 0.0 0.0 0.0 30.0 59666.666666666664]\n",
            " [0.0 1.0 0.0 0.0 0.0 0.0 35.0 58000.0]\n",
            " [0.0 0.0 0.0 0.0 1.0 0.0 21.0 52000.0]\n",
            " [0.0 0.0 0.0 1.0 0.0 0.0 48.0 79000.0]\n",
            " [0.0 0.0 1.0 0.0 0.0 0.0 50.0 83000.0]\n",
            " [0.0 1.0 0.0 0.0 0.0 0.0 37.0 67000.0]]\n"
          ]
        }
      ]
    },
    {
      "cell_type": "code",
      "source": [
        "from sklearn.preprocessing import LabelEncoder\n",
        "le = LabelEncoder()\n",
        "y = le.fit_transform(y)"
      ],
      "metadata": {
        "id": "pjqyKYgzWp6g"
      },
      "execution_count": 14,
      "outputs": []
    },
    {
      "cell_type": "code",
      "source": [
        "print(y)"
      ],
      "metadata": {
        "colab": {
          "base_uri": "https://localhost:8080/"
        },
        "id": "x0H6zVFLWslH",
        "outputId": "c5eace28-726f-469c-aea9-140c583ba895"
      },
      "execution_count": 15,
      "outputs": [
        {
          "output_type": "stream",
          "name": "stdout",
          "text": [
            "[0 1 0 0 1 1 0 1 0 1]\n"
          ]
        }
      ]
    },
    {
      "cell_type": "code",
      "source": [
        "from sklearn.model_selection import train_test_split\n",
        "x_train, x_test, y_train, y_test = train_test_split(x, y, test_size=0.2, random_state=1)"
      ],
      "metadata": {
        "id": "diricmyMWwya"
      },
      "execution_count": 17,
      "outputs": []
    },
    {
      "cell_type": "code",
      "source": [
        "print(x_train)"
      ],
      "metadata": {
        "colab": {
          "base_uri": "https://localhost:8080/"
        },
        "id": "1xRTOukmW5B3",
        "outputId": "1991b7ed-8727-4df1-ae90-e11194e528d8"
      },
      "execution_count": 18,
      "outputs": [
        {
          "output_type": "stream",
          "name": "stdout",
          "text": [
            "[[0.0 0.0 0.0 0.0 1.0 0.0 21.0 52000.0]\n",
            " [1.0 0.0 0.0 0.0 0.0 0.0 30.0 59666.666666666664]\n",
            " [0.0 1.0 0.0 0.0 0.0 0.0 50.0 36000.0]\n",
            " [0.0 0.0 0.0 0.0 0.0 1.0 38.0 61000.0]\n",
            " [0.0 0.0 0.0 0.0 0.0 1.0 37.666666666666664 41000.0]\n",
            " [0.0 0.0 0.0 1.0 0.0 0.0 48.0 79000.0]\n",
            " [0.0 0.0 1.0 0.0 0.0 0.0 50.0 83000.0]\n",
            " [0.0 1.0 0.0 0.0 0.0 0.0 35.0 58000.0]]\n"
          ]
        }
      ]
    },
    {
      "cell_type": "code",
      "source": [
        "print(x_test)"
      ],
      "metadata": {
        "colab": {
          "base_uri": "https://localhost:8080/"
        },
        "id": "BJrWZ1mBW8Pv",
        "outputId": "a933f83e-23ec-4f9c-b644-237b22274acc"
      },
      "execution_count": 19,
      "outputs": [
        {
          "output_type": "stream",
          "name": "stdout",
          "text": [
            "[[0.0 0.0 1.0 0.0 0.0 0.0 30.0 60000.0]\n",
            " [0.0 1.0 0.0 0.0 0.0 0.0 37.0 67000.0]]\n"
          ]
        }
      ]
    },
    {
      "cell_type": "code",
      "source": [
        "print(y_train)"
      ],
      "metadata": {
        "colab": {
          "base_uri": "https://localhost:8080/"
        },
        "id": "zGFr05OrXBGz",
        "outputId": "21cf7341-9a0f-4d86-b6c4-fcaba4fec538"
      },
      "execution_count": 20,
      "outputs": [
        {
          "output_type": "stream",
          "name": "stdout",
          "text": [
            "[0 1 0 0 1 1 0 1]\n"
          ]
        }
      ]
    },
    {
      "cell_type": "code",
      "source": [
        "print(y_test)"
      ],
      "metadata": {
        "colab": {
          "base_uri": "https://localhost:8080/"
        },
        "id": "dS-Tyx2bXFtZ",
        "outputId": "368867c6-d834-45e8-8be5-36cb50f5d4ce"
      },
      "execution_count": 21,
      "outputs": [
        {
          "output_type": "stream",
          "name": "stdout",
          "text": [
            "[0 1]\n"
          ]
        }
      ]
    },
    {
      "cell_type": "code",
      "source": [
        "from sklearn.preprocessing import StandardScaler\n",
        "sc = StandardScaler()\n",
        "x_train[:, 3:] = sc.fit_transform(x_train[:, 3:])\n",
        "x_test[:, 3:] = sc.transform(x_test[:, 3:])"
      ],
      "metadata": {
        "id": "D_H5lQc1XKjC"
      },
      "execution_count": 22,
      "outputs": []
    },
    {
      "cell_type": "code",
      "source": [
        "print(x_train)"
      ],
      "metadata": {
        "colab": {
          "base_uri": "https://localhost:8080/"
        },
        "id": "owKS8QAjXMF6",
        "outputId": "e6c2e90e-e133-41db-a506-b6e3512c1f0e"
      },
      "execution_count": 23,
      "outputs": [
        {
          "output_type": "stream",
          "name": "stdout",
          "text": [
            "[[0.0 0.0 0.0 -0.3779644730092272 2.6457513110645903 -0.5773502691896258\n",
            "  -1.833686004594795 -0.4372820977874461]\n",
            " [1.0 0.0 0.0 -0.3779644730092272 -0.3779644730092272 -0.5773502691896258\n",
            "  -0.901742058730146 0.062468871112492504]\n",
            " [0.0 1.0 0.0 -0.3779644730092272 -0.3779644730092272 -0.5773502691896258\n",
            "  1.1692444876357406 -1.4802406415786227]\n",
            " [0.0 0.0 0.0 -0.3779644730092272 -0.3779644730092272 1.7320508075688774\n",
            "  -0.07334744018379133 0.1493820830950907]\n",
            " [0.0 0.0 0.0 -0.3779644730092272 -0.3779644730092272 1.7320508075688774\n",
            "  -0.10786388262322302 -1.15431609664388]\n",
            " [0.0 0.0 0.0 2.6457513110645903 -0.3779644730092272 -0.5773502691896258\n",
            "  0.962145832999152 1.3227104448601643]\n",
            " [0.0 0.0 1.0 -0.3779644730092272 -0.3779644730092272 -0.5773502691896258\n",
            "  1.1692444876357406 1.5834500808079586]\n",
            " [0.0 1.0 0.0 -0.3779644730092272 -0.3779644730092272 -0.5773502691896258\n",
            "  -0.3839954221386743 -0.0461726438657549]]\n"
          ]
        }
      ]
    },
    {
      "cell_type": "code",
      "source": [
        "print(x_test)"
      ],
      "metadata": {
        "colab": {
          "base_uri": "https://localhost:8080/"
        },
        "id": "UZnPlCKJXPYa",
        "outputId": "6e44f3a7-7a5f-4b2e-8e88-9f2193711b54"
      },
      "execution_count": 24,
      "outputs": [
        {
          "output_type": "stream",
          "name": "stdout",
          "text": [
            "[[0.0 0.0 1.0 -0.3779644730092272 -0.3779644730092272 -0.5773502691896258\n",
            "  -0.901742058730146 0.08419717410814218]\n",
            " [0.0 1.0 0.0 -0.3779644730092272 -0.3779644730092272 -0.5773502691896258\n",
            "  -0.17689676750208566 0.5404915370167819]]\n"
          ]
        }
      ]
    }
  ]
}